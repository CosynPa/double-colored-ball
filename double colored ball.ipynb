{
 "cells": [
  {
   "cell_type": "code",
   "execution_count": 1,
   "metadata": {},
   "outputs": [],
   "source": [
    "import math\n",
    "from decimal import Decimal, ROUND_HALF_UP\n",
    "\n",
    "from scipy.special import comb\n",
    "from scipy.stats import poisson"
   ]
  },
  {
   "cell_type": "code",
   "execution_count": 2,
   "metadata": {},
   "outputs": [],
   "source": [
    "def combt(n, r):\n",
    "    return comb(n, r, exact=True)"
   ]
  },
  {
   "cell_type": "markdown",
   "metadata": {},
   "source": [
    "## 概率计算"
   ]
  },
  {
   "cell_type": "code",
   "execution_count": 3,
   "metadata": {},
   "outputs": [],
   "source": [
    "def total_cases():\n",
    "    return combt(33, 6) * 16\n",
    "\n",
    "def level_1_cases():\n",
    "    \"\"\"一等奖：投注号码与当期开奖号码全部相同（顺序不限，下同），即中奖；\"\"\"\n",
    "    return 1\n",
    "\n",
    "def level_2_cases():\n",
    "    \"\"\"二等奖：投注号码与当期开奖号码中的6个红色球号码相同，即中奖；\"\"\"\n",
    "    return 16 - 1\n",
    "\n",
    "def level_3_cases():\n",
    "    \"\"\"三等奖：投注号码与当期开奖号码中的任意5个红色球号码和1个蓝色球号码相同，即中奖；\"\"\"\n",
    "    return combt(6, 5) * (33 - 6)\n",
    "\n",
    "def level_4_cases():\n",
    "    \"\"\"四等奖：投注号码与当期开奖号码中的任意5个红色球号码相同，或与任意4个红色球号码和1个蓝色球号码相同，即中奖；\"\"\"\n",
    "    return combt(6, 5) * (33 - 6) * (16 - 1) + combt(6, 4) * combt(33 - 6, 2)\n",
    "\n",
    "def level_5_cases():\n",
    "    \"\"\"五等奖：投注号码与当期开奖号码中的任意4个红色球号码相同，或与任意3个红色球号码和1个蓝色球号码相同，即中奖；\"\"\"\n",
    "    return combt(6, 4) * combt(33 - 6, 2) * (16 - 1) + combt(6, 3) * combt(33 - 6, 3)\n",
    "\n",
    "def level_6_cases():\n",
    "    \"\"\"六等奖：投注号码与当期开奖号码中的1个蓝色球号码相同，即中奖。\"\"\"\n",
    "    return combt(6, 2) * combt(33 - 6, 4) + combt(6, 1) * combt(33 - 6, 5) + combt(33 - 6, 6)"
   ]
  },
  {
   "cell_type": "code",
   "execution_count": 4,
   "metadata": {},
   "outputs": [],
   "source": [
    "def diff(sales, one, two, three, four, five, six):\n",
    "    \"\"\"Check how the real data differentiate from the expected data\"\"\"\n",
    "    volume = sales / 2\n",
    "    \n",
    "    cases = [level_1_cases(), level_2_cases(), level_3_cases(), level_4_cases(), level_5_cases(), level_6_cases()]\n",
    "    real = [one, two, three, four, five, six]\n",
    "    \n",
    "    probabilities = [case / total_cases() for case in cases]\n",
    "    expected = [volume * p for p in probabilities]\n",
    "    std = [math.sqrt(volume * p * (1 - p)) for p in probabilities]\n",
    "    \n",
    "    diff_ratio = [real[i] / expected[i] - 1 for i in range(6)]\n",
    "    std_ratio = [std[i] / expected[i] for i in range(6)]\n",
    "    \n",
    "    return diff_ratio, std_ratio"
   ]
  },
  {
   "cell_type": "markdown",
   "metadata": {},
   "source": [
    "### 验证中奖数是否与理论值接近"
   ]
  },
  {
   "cell_type": "code",
   "execution_count": 5,
   "metadata": {},
   "outputs": [
    {
     "data": {
      "text/plain": [
       "([0.15036686996691184,\n",
       "  -0.05879074275434493,\n",
       "  0.03675038898252536,\n",
       "  0.07817419688209593,\n",
       "  0.10966880748068797,\n",
       "  -0.1302380966387937],\n",
       " [0.3233864568272026,\n",
       "  0.08349799112952193,\n",
       "  0.025407524201210945,\n",
       "  0.0036857274424272027,\n",
       "  0.000868798061792571,\n",
       "  0.0003070902929542848])"
      ]
     },
     "execution_count": 5,
     "metadata": {},
     "output_type": "execute_result"
    }
   ],
   "source": [
    "# 2020032: 03, 11, 13, 14, 15, 26; 13\n",
    "diff(338_904_002, 11, 135, 1606, 79333, 1458725, 8679754)"
   ]
  },
  {
   "cell_type": "code",
   "execution_count": 6,
   "metadata": {},
   "outputs": [
    {
     "data": {
      "text/plain": [
       "([0.5319088229863305,\n",
       "  1.2613892148845829,\n",
       "  1.409987072493486,\n",
       "  0.9951644215684214,\n",
       "  0.5800855705704191,\n",
       "  0.21275381227198675],\n",
       " [0.33079004309388943,\n",
       "  0.08540958812862814,\n",
       "  0.025989202231553175,\n",
       "  0.0037701082212119054,\n",
       "  0.0008886882620870397,\n",
       "  0.0003141207960181903])"
      ]
     },
     "execution_count": 6,
     "metadata": {},
     "output_type": "execute_result"
    }
   ],
   "source": [
    "# 2020031: 02, 05, 09, 15, 16, 27; 09\n",
    "diff(323_903_392, 14, 310, 3568, 140308, 1985178, 11566940)"
   ]
  },
  {
   "cell_type": "code",
   "execution_count": 7,
   "metadata": {},
   "outputs": [
    {
     "data": {
      "text/plain": [
       "([-0.8918742482457308,\n",
       "  -0.46657962467893854,\n",
       "  -0.40330603661532916,\n",
       "  -0.36993389101215957,\n",
       "  -0.2568199920922385,\n",
       "  -0.08767596721445081],\n",
       " [0.32882479476575227,\n",
       "  0.08490216339266343,\n",
       "  0.02583479844189412,\n",
       "  0.0037477097269605843,\n",
       "  0.0008834084988119222,\n",
       "  0.00031225458093071665])"
      ]
     },
     "execution_count": 7,
     "metadata": {},
     "output_type": "execute_result"
    }
   ],
   "source": [
    "# 2020030: 17, 18, 21, 29, 30, 32; 03\n",
    "diff(327_786_632, 1, 74, 894, 44840, 944906, 8805838)"
   ]
  },
  {
   "cell_type": "code",
   "execution_count": 8,
   "metadata": {},
   "outputs": [
    {
     "data": {
      "text/plain": [
       "([-0.3189226679174353,\n",
       "  -0.5913536007504612,\n",
       "  -0.4096128594028562,\n",
       "  -0.28946179009784234,\n",
       "  -0.21927408121069814,\n",
       "  0.270373194232151],\n",
       " [0.31192427965073494,\n",
       "  0.0805384708775124,\n",
       "  0.024506974602235988,\n",
       "  0.003555089748493583,\n",
       "  0.0008380042016769036,\n",
       "  0.0002962057204166779])"
      ]
     },
     "execution_count": 8,
     "metadata": {},
     "output_type": "execute_result"
    }
   ],
   "source": [
    "# 2020029: 01 12 18 20 30 32 05\n",
    "diff(364_268_814, 7, 63, 983, 56195, 1103123, 13626479)"
   ]
  },
  {
   "cell_type": "code",
   "execution_count": 9,
   "metadata": {},
   "outputs": [
    {
     "data": {
      "text/plain": [
       "([-0.2337905917658003,\n",
       "  0.11647656628411962,\n",
       "  -0.15743991881124608,\n",
       "  0.09937856742219608,\n",
       "  0.1132845744751041,\n",
       "  -0.17798442548945437],\n",
       " [0.3308451007856451,\n",
       "  0.0854238039578961,\n",
       "  0.02599352795270263,\n",
       "  0.0037707357293871443,\n",
       "  0.0008888361780398394,\n",
       "  0.0003141730792302225])"
      ]
     },
     "execution_count": 9,
     "metadata": {},
     "output_type": "execute_result"
    }
   ],
   "source": [
    "# 2020028: 05 06 15 18 26 32 08\n",
    "diff(323_795_596, 7, 153, 1247, 77287, 1398236, 7837568)"
   ]
  },
  {
   "cell_type": "markdown",
   "metadata": {},
   "source": [
    "### 实际开出的中奖数往往偏离理论的期望值很多，可能是由于彩民选数字不是完全随机，而是有一定的偏好。"
   ]
  },
  {
   "cell_type": "markdown",
   "metadata": {},
   "source": [
    "## 奖池计算"
   ]
  },
  {
   "cell_type": "code",
   "execution_count": 10,
   "metadata": {},
   "outputs": [],
   "source": [
    "def pool_diff(sales, one, two, three, four, five, six, previous_pool, next_pool, level_1_bonus, level_2_bonus):\n",
    "    \"\"\"Check if the level 1 and 2 bonus and reward pool is calculated correctly\"\"\"\n",
    "    \n",
    "    sales = Decimal(sales)\n",
    "    one = Decimal(one)\n",
    "    two = Decimal(two)\n",
    "    three = Decimal(three)\n",
    "    four = Decimal(four)\n",
    "    five = Decimal(five)\n",
    "    six = Decimal(six)\n",
    "    previous_pool = Decimal(previous_pool)\n",
    "    next_pool = Decimal(next_pool)\n",
    "    level_1_bonus = Decimal(level_1_bonus)\n",
    "    level_2_bonus = Decimal(level_2_bonus)\n",
    "\n",
    "    lower_level_reward = three * Decimal(3000) + four * Decimal(200) + five * Decimal(10) + six * Decimal(5)\n",
    "    current_reward = sales * Decimal(\"0.49\")\n",
    "    current_high_level_reward = current_reward - lower_level_reward\n",
    "    \n",
    "    expect_level_2_bonus = (current_high_level_reward * Decimal(\"0.25\")) / two\n",
    "    expect_level_2_bonus = expect_level_2_bonus.quantize(Decimal('0.01'), rounding=ROUND_HALF_UP)\n",
    "    expect_level_2_bonus = min(expect_level_2_bonus, Decimal(5_000_000))\n",
    "    \n",
    "    if one == 0:\n",
    "        expect_level_1_bonus = Decimal(0)\n",
    "        level_1_reward = Decimal(0)\n",
    "    else:\n",
    "        if previous_pool < 100_000_000:\n",
    "            expect_level_1_bonus = (current_high_level_reward * Decimal(\"0.75\") + previous_pool) / one\n",
    "            expect_level_1_bonus = expect_level_1_bonus.quantize(Decimal('0.01'), rounding=ROUND_HALF_UP)\n",
    "            expect_level_1_bonus = min(expect_level_1_bonus, Decimal(5_000_000))\n",
    "        else:\n",
    "            part_1 = (current_high_level_reward * Decimal(\"0.55\") + previous_pool) / one\n",
    "            part_1 = part_1.quantize(Decimal('0.01'), rounding=ROUND_HALF_UP)\n",
    "            part_1 = min(part_1, Decimal(5_000_000))\n",
    "\n",
    "            part_2 = current_high_level_reward * Decimal(\"0.2\") / one\n",
    "            part_2 = part_2.quantize(Decimal('0.01'), rounding=ROUND_HALF_UP)\n",
    "            part_2 = min(part_2, Decimal(5_000_000))\n",
    "\n",
    "            expect_level_1_bonus = part_1 + part_2\n",
    "        \n",
    "        level_1_reward = one * expect_level_1_bonus\n",
    "        \n",
    "    expected_next_pool = previous_pool + current_reward - lower_level_reward \\\n",
    "        - level_1_reward - two * expect_level_2_bonus\n",
    "    \n",
    "    return (\n",
    "        math.floor(expect_level_1_bonus) - level_1_bonus,\n",
    "        math.floor(expect_level_2_bonus) - level_2_bonus,\n",
    "        expected_next_pool - next_pool\n",
    "    )"
   ]
  },
  {
   "cell_type": "code",
   "execution_count": 11,
   "metadata": {},
   "outputs": [
    {
     "data": {
      "text/plain": [
       "(Decimal('0'), Decimal('0'), Decimal('0.38'))"
      ]
     },
     "execution_count": 11,
     "metadata": {},
     "output_type": "execute_result"
    }
   ],
   "source": [
    "# 2020032\n",
    "pool_diff(338_904_002, 11, 135, 1606, 79333, 1458725, 8679754, 850135149, 843200936, 6588951, 161837)"
   ]
  },
  {
   "cell_type": "code",
   "execution_count": 12,
   "metadata": {},
   "outputs": [
    {
     "data": {
      "text/plain": [
       "(Decimal('0'), Decimal('0'), Decimal('1.58'))"
      ]
     },
     "execution_count": 12,
     "metadata": {},
     "output_type": "execute_result"
    }
   ],
   "source": [
    "# 2020031\n",
    "pool_diff(323_903_392, 14, 310, 3568, 140308, 1985178, 11566940, 896891829, 850135149, 5603722, 34081)"
   ]
  },
  {
   "cell_type": "code",
   "execution_count": 13,
   "metadata": {},
   "outputs": [
    {
     "data": {
      "text/plain": [
       "(Decimal('0'), Decimal('0'), Decimal('1.82'))"
      ]
     },
     "execution_count": 13,
     "metadata": {},
     "output_type": "execute_result"
    }
   ],
   "source": [
    "# 2020030\n",
    "pool_diff(327_786_632, 1, 74, 894, 44840, 944906, 8805838, 835276431, 896891829, 10000000, 322591)"
   ]
  },
  {
   "cell_type": "code",
   "execution_count": 14,
   "metadata": {},
   "outputs": [
    {
     "data": {
      "text/plain": [
       "(Decimal('0'), Decimal('0'), Decimal('0.33'))"
      ]
     },
     "execution_count": 14,
     "metadata": {},
     "output_type": "execute_result"
    }
   ],
   "source": [
    "# 2020029\n",
    "pool_diff(364_268_814, 7, 63, 983, 56195, 1103123, 13626479, 823449380, 835276431, 7432574, 337857)"
   ]
  },
  {
   "cell_type": "code",
   "execution_count": 15,
   "metadata": {},
   "outputs": [
    {
     "data": {
      "text/plain": [
       "(Decimal('0'), Decimal('0'), Decimal('0.34'))"
      ]
     },
     "execution_count": 15,
     "metadata": {},
     "output_type": "execute_result"
    }
   ],
   "source": [
    "# 2020028\n",
    "pool_diff(323_795_596, 7, 153, 1247, 77287, 1398236, 7837568, 810989197, 823449380, 7465464, 140998)"
   ]
  },
  {
   "cell_type": "code",
   "execution_count": 16,
   "metadata": {},
   "outputs": [
    {
     "data": {
      "text/plain": [
       "(Decimal('0'), Decimal('0'), Decimal('2.95'))"
      ]
     },
     "execution_count": 16,
     "metadata": {},
     "output_type": "execute_result"
    }
   ],
   "source": [
    "# 2017029\n",
    "pool_diff(343_011_048, 4, 53, 1118, 57929, 1106505, 11725496, 977766651, 1003660344, 9172154, 393599)"
   ]
  },
  {
   "cell_type": "code",
   "execution_count": 17,
   "metadata": {},
   "outputs": [
    {
     "data": {
      "text/plain": [
       "(Decimal('0'), Decimal('0'), Decimal('6.85'))"
      ]
     },
     "execution_count": 17,
     "metadata": {},
     "output_type": "execute_result"
    }
   ],
   "source": [
    "# 2017028\n",
    "pool_diff(377_657_484, 9, 152, 2120, 100177, 1661969, 13106644, 980689536, 977766651, 6700085, 125828)"
   ]
  },
  {
   "cell_type": "code",
   "execution_count": 18,
   "metadata": {},
   "outputs": [
    {
     "data": {
      "text/plain": [
       "(Decimal('0'), Decimal('0'), Decimal('0.36'))"
      ]
     },
     "execution_count": 18,
     "metadata": {},
     "output_type": "execute_result"
    }
   ],
   "source": [
    "# 2018094 no level 1\n",
    "pool_diff(314_204_036, 0, 148, 1301, 62638, 1144407, 8907745, 962368068, 1023528004, 0, 137747)"
   ]
  },
  {
   "cell_type": "markdown",
   "metadata": {},
   "source": [
    "### 计算结果有些许误差，不太清楚小数部分是如何计算的。"
   ]
  },
  {
   "cell_type": "markdown",
   "metadata": {},
   "source": [
    "## 获奖期望"
   ]
  },
  {
   "cell_type": "code",
   "execution_count": 19,
   "metadata": {},
   "outputs": [],
   "source": [
    "def low_level_expectation():\n",
    "    return (level_3_cases() * 3000 + level_4_cases() * 200 + level_5_cases() * 10 + level_6_cases() * 5) / total_cases()"
   ]
  },
  {
   "cell_type": "code",
   "execution_count": 20,
   "metadata": {},
   "outputs": [],
   "source": [
    "def total_expectation(pool, sales, multiplier):\n",
    "    \"\"\"Expected reward of one ticket\"\"\"\n",
    "    # Here we ignore the randomness of the numbers, the result can be inaccurate\n",
    "    other_people_level_1 = sales / 2 * level_1_cases() / total_cases()\n",
    "    other_people_level_2 = sales / 2 * level_2_cases() / total_cases()\n",
    "    \n",
    "    lower_level_reward = sales / 2 * low_level_expectation()\n",
    "    current_reward = sales * 0.49\n",
    "    current_high_level_reward = current_reward - lower_level_reward\n",
    "    \n",
    "    expect_level_2_bonus = (current_high_level_reward * 0.25) / (other_people_level_2 + multiplier)\n",
    "    print(f\"Level 2 reward: {expect_level_2_bonus}\")\n",
    "    expect_level_2_reward = expect_level_2_bonus * level_2_cases() / total_cases()\n",
    "    \n",
    "    if pool < 100_000_000:\n",
    "        expect_level_1_bonus = (current_high_level_reward * 0.75 + pool) / (other_people_level_1 + multiplier)\n",
    "        print(f\"Level 1 reward: {expect_level_1_bonus}\")\n",
    "        expect_level_1_bonus = min(expect_level_1_bonus, 5_000_000)\n",
    "    else:\n",
    "        part_1 = (current_high_level_reward * 0.55 + pool) / (other_people_level_1 + multiplier)\n",
    "        print(f\"Level 1 reward part 1 {part_1}\")\n",
    "        part_1 = min(part_1, 5_000_000)\n",
    "        \n",
    "        part_2 = current_high_level_reward * 0.2 / (other_people_level_1 + multiplier)\n",
    "        print(f\"Level 1 reward part 2 {part_2}\")\n",
    "        part_2 = min(part_2, 5_000_000)\n",
    "        \n",
    "        expect_level_1_bonus = part_1 + part_2\n",
    "        \n",
    "    expect_level_1_reward = expect_level_1_bonus * level_1_cases() / total_cases()\n",
    "    \n",
    "    return expect_level_1_reward + expect_level_2_reward + low_level_expectation()"
   ]
  },
  {
   "cell_type": "code",
   "execution_count": 21,
   "metadata": {},
   "outputs": [
    {
     "name": "stdout",
     "output_type": "stream",
     "text": [
      "Level 2 reward: 144799.70525475597\n",
      "Level 1 reward: 13531341.588048158\n"
     ]
    },
    {
     "data": {
      "text/plain": [
       "0.8910257416938137"
      ]
     },
     "execution_count": 21,
     "metadata": {},
     "output_type": "execute_result"
    }
   ],
   "source": [
    "total_expectation(80_000_000, 338_000_000, 1)"
   ]
  },
  {
   "cell_type": "code",
   "execution_count": 22,
   "metadata": {},
   "outputs": [
    {
     "name": "stdout",
     "output_type": "stream",
     "text": [
      "Level 2 reward: 145811.93388807186\n",
      "Level 1 reward: 6561570.296612353\n"
     ]
    },
    {
     "data": {
      "text/plain": [
       "0.891882541767248"
      ]
     },
     "execution_count": 22,
     "metadata": {},
     "output_type": "execute_result"
    }
   ],
   "source": [
    "total_expectation(99_999_999, 1e14, 1)"
   ]
  },
  {
   "cell_type": "code",
   "execution_count": 23,
   "metadata": {},
   "outputs": [
    {
     "name": "stdout",
     "output_type": "stream",
     "text": [
      "Level 2 reward: 145811.93698880717\n",
      "Level 1 reward part 1 3549029268.14668\n",
      "Level 1 reward part 2 1749743.185985294\n"
     ]
    },
    {
     "data": {
      "text/plain": [
       "0.990620454049853"
      ]
     },
     "execution_count": 23,
     "metadata": {},
     "output_type": "execute_result"
    }
   ],
   "source": [
    "total_expectation(1e17, 1e15, 1)"
   ]
  },
  {
   "cell_type": "code",
   "execution_count": 24,
   "metadata": {},
   "outputs": [],
   "source": [
    "def upper_limit_less_than_hundred_million():\n",
    "    level_2_limit = (0.98 - low_level_expectation()) * 0.25\n",
    "    level_1_limit = 5_000_000 * level_1_cases() / total_cases()\n",
    "    return low_level_expectation() + level_2_limit + level_1_limit"
   ]
  },
  {
   "cell_type": "code",
   "execution_count": 25,
   "metadata": {},
   "outputs": [
    {
     "data": {
      "text/plain": [
       "0.8918825446834868"
      ]
     },
     "execution_count": 25,
     "metadata": {},
     "output_type": "execute_result"
    }
   ],
   "source": [
    "upper_limit_less_than_hundred_million()"
   ]
  },
  {
   "cell_type": "code",
   "execution_count": 26,
   "metadata": {},
   "outputs": [],
   "source": [
    "def upper_limit_greater_than_hundred_million():\n",
    "    level_2_limit = (0.98 - low_level_expectation()) * 0.25\n",
    "    level_1_part_1_limit = 5_000_000 * level_1_cases() / total_cases()\n",
    "    level_1_part_2_limit = min((0.98 - low_level_expectation()) * 0.2, 5_000_000 * level_1_cases() / total_cases())\n",
    "    return low_level_expectation() + level_2_limit + level_1_part_1_limit + level_1_part_2_limit"
   ]
  },
  {
   "cell_type": "code",
   "execution_count": 27,
   "metadata": {},
   "outputs": [
    {
     "data": {
      "text/plain": [
       "0.9906204578409634"
      ]
     },
     "execution_count": 27,
     "metadata": {},
     "output_type": "execute_result"
    }
   ],
   "source": [
    "upper_limit_greater_than_hundred_million()"
   ]
  },
  {
   "cell_type": "markdown",
   "metadata": {},
   "source": [
    "### 可见无论奖池里的金额有多大，一张彩票收益的期望都小于0.9907元"
   ]
  },
  {
   "cell_type": "markdown",
   "metadata": {},
   "source": [
    "## 奖池增长"
   ]
  },
  {
   "cell_type": "code",
   "execution_count": 28,
   "metadata": {},
   "outputs": [],
   "source": [
    "def pool_growth(previous_pool, sales, one):\n",
    "    lower_level_reward = sales / 2 * low_level_expectation()\n",
    "    current_reward = sales * 0.49\n",
    "    current_high_level_reward = current_reward - lower_level_reward\n",
    "\n",
    "    level_2_reward = current_high_level_reward * 0.25\n",
    "    \n",
    "    if one == 0:\n",
    "        level_1_reward = 0\n",
    "    else:\n",
    "        if previous_pool < 100_000_000:\n",
    "            expect_level_1_bonus = (current_high_level_reward * 0.75 + previous_pool) / one\n",
    "            expect_level_1_bonus = min(expect_level_1_bonus, 5_000_000)\n",
    "        else:\n",
    "            part_1 = (current_high_level_reward * 0.55 + previous_pool) / one\n",
    "            part_1 = min(part_1, 5_000_000)\n",
    "\n",
    "            part_2 = current_high_level_reward * 0.2 / one\n",
    "            part_2 = min(part_2, 5_000_000)\n",
    "\n",
    "            expect_level_1_bonus = part_1 + part_2\n",
    "        \n",
    "        level_1_reward = one * expect_level_1_bonus\n",
    "    \n",
    "    return current_reward - lower_level_reward - level_1_reward - level_2_reward"
   ]
  },
  {
   "cell_type": "code",
   "execution_count": 29,
   "metadata": {},
   "outputs": [],
   "source": [
    "def expect_pool_growth(previous_pool, sales):\n",
    "    one = 0\n",
    "    acc = 0.0\n",
    "    while True:\n",
    "        growth = pool_growth(previous_pool, sales, one)\n",
    "        left = previous_pool + growth\n",
    "        \n",
    "        if left / sales < 1e-8:\n",
    "            break\n",
    "            \n",
    "        acc += left * poisson.pmf(one, mu=sales / 2 * level_1_cases() / total_cases())\n",
    "        one += 1\n",
    "    \n",
    "    return acc - previous_pool"
   ]
  },
  {
   "cell_type": "code",
   "execution_count": 30,
   "metadata": {},
   "outputs": [
    {
     "data": {
      "text/plain": [
       "0.0881174553165133"
      ]
     },
     "execution_count": 30,
     "metadata": {},
     "output_type": "execute_result"
    }
   ],
   "source": [
    "pool_growth(0.9e8, 3e8, 8.464491570720714) / (3e8 / 2)"
   ]
  },
  {
   "cell_type": "code",
   "execution_count": 31,
   "metadata": {},
   "outputs": [
    {
     "data": {
      "text/plain": [
       "0.08811745531651316"
      ]
     },
     "execution_count": 31,
     "metadata": {},
     "output_type": "execute_result"
    }
   ],
   "source": [
    "0.98 - upper_limit_less_than_hundred_million()"
   ]
  },
  {
   "cell_type": "code",
   "execution_count": 32,
   "metadata": {},
   "outputs": [
    {
     "data": {
      "text/plain": [
       "0.08811745562339991"
      ]
     },
     "execution_count": 32,
     "metadata": {},
     "output_type": "execute_result"
    }
   ],
   "source": [
    "expect_pool_growth(0.9e8, 3e8) / (3e8 / 2)"
   ]
  },
  {
   "cell_type": "code",
   "execution_count": 33,
   "metadata": {},
   "outputs": [
    {
     "data": {
      "text/plain": [
       "-0.01062045784096323"
      ]
     },
     "execution_count": 33,
     "metadata": {},
     "output_type": "execute_result"
    }
   ],
   "source": [
    "pool_growth(10e8, 3e8, 8.464491570720714) / (3e8 / 2)"
   ]
  },
  {
   "cell_type": "code",
   "execution_count": 34,
   "metadata": {},
   "outputs": [
    {
     "data": {
      "text/plain": [
       "-0.010620457840963438"
      ]
     },
     "execution_count": 34,
     "metadata": {},
     "output_type": "execute_result"
    }
   ],
   "source": [
    "0.98 - upper_limit_greater_than_hundred_million()"
   ]
  },
  {
   "cell_type": "code",
   "execution_count": 35,
   "metadata": {},
   "outputs": [
    {
     "data": {
      "text/plain": [
       "-0.010240708958779175"
      ]
     },
     "execution_count": 35,
     "metadata": {},
     "output_type": "execute_result"
    }
   ],
   "source": [
    "expect_pool_growth(10e8, 3e8) / (3e8 / 2)"
   ]
  },
  {
   "cell_type": "markdown",
   "metadata": {},
   "source": [
    "### 计算结果与上面基本一致：奖池少于一亿时奖池会增长，奖池大于一亿时会微微减少"
   ]
  },
  {
   "cell_type": "code",
   "execution_count": null,
   "metadata": {},
   "outputs": [],
   "source": []
  }
 ],
 "metadata": {
  "kernelspec": {
   "display_name": "Python 3",
   "language": "python",
   "name": "python3"
  },
  "language_info": {
   "codemirror_mode": {
    "name": "ipython",
    "version": 3
   },
   "file_extension": ".py",
   "mimetype": "text/x-python",
   "name": "python",
   "nbconvert_exporter": "python",
   "pygments_lexer": "ipython3",
   "version": "3.7.4"
  }
 },
 "nbformat": 4,
 "nbformat_minor": 2
}
